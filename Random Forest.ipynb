{
 "cells": [
  {
   "cell_type": "code",
   "execution_count": 1,
   "source": [
    "import pandas as pd\n",
    "import numpy as np\n",
    "import matplotlib.pyplot as plt\n",
    "import seaborn as sns\n",
    "import os\n",
    "import lightgbm as lgb\n",
    "from sklearn.linear_model import LinearRegression, LogisticRegression\n",
    "from sklearn.ensemble import RandomForestClassifier\n",
    "from sklearn.metrics import accuracy_score, mean_squared_error, log_loss\n",
    "from sklearn.model_selection import train_test_split, KFold\n",
    "from sklearn.metrics import roc_auc_score\n",
    "from sklearn.model_selection import learning_curve\n",
    "from sklearn.model_selection import validation_curve\n",
    "from sklearn.svm import SVC\n",
    "from sklearn.feature_selection import RFE\n",
    "from sklearn.model_selection import StratifiedKFold\n",
    "from sklearn.feature_selection import RFECV\n",
    "from sklearn.datasets import make_classification\n",
    "from sklearn.neighbors import KNeighborsClassifier\n",
    "import featurewiz"
   ],
   "outputs": [
    {
     "output_type": "stream",
     "name": "stdout",
     "text": [
      "Imported featurewiz: advanced feature engg and selection library. Version=0.0.42\n",
      "output = featurewiz(dataname, target, corr_limit=0.70,\n",
      "                    verbose=2, sep=',', header=0, test_data='',\n",
      "                    feature_engg='', category_encoders='')\n",
      "Create new features via 'feature_engg' flag : ['interactions','groupby','target']\n",
      "                                \n"
     ]
    }
   ],
   "metadata": {}
  },
  {
   "cell_type": "code",
   "execution_count": null,
   "source": [
    "df_clean = pd.read_csv('/Users/williamjames/Desktop/CSCI/487/final_data.csv')\n",
    "df_clean = df_clean.drop(columns=['Unnamed: 0'])\n",
    "df_home = df_clean.loc[(df_clean['location']==2)]\n",
    "X = df_home.drop(columns=['win','location'])\n",
    "y = df_home['win']\n",
    "\n"
   ],
   "outputs": [],
   "metadata": {}
  },
  {
   "cell_type": "code",
   "execution_count": 8,
   "source": [
    "from mlxtend.feature_selection import SequentialFeatureSelector as sfs\n",
    "from sklearn.model_selection import cross_val_score"
   ],
   "outputs": [],
   "metadata": {}
  },
  {
   "cell_type": "code",
   "execution_count": null,
   "source": [
    "k_features = []\n",
    "direction = []\n",
    "features = []\n",
    "score = []\n",
    "accuracy = []\n",
    "for k in range (5,20):\n",
    "    RF = RandomForestClassifier(n_estimators=25,n_jobs=-1,max_depth=13)\n",
    "    sfs1 = sfs(RF, k_features=k, forward=True, verbose=2, scoring='neg_mean_squared_error')\n",
    "    sfs1 = sfs1.fit(X, y)\n",
    "    feat_names = list(sfs1.k_feature_names_)\n",
    "    RF.fit(X_train,y_train)\n",
    "    accuracyCV = cross_val_score(clf, X[feat_names], y, scoring='accuracy', cv = 3)\n",
    "    k_features.append(k)\n",
    "    method.append('forward')\n",
    "    features.append(feat_names)\n",
    "    score.append(np.mean(accuracyCV))\n",
    "forward = list(zip(k_features,direction,features,score))"
   ],
   "outputs": [],
   "metadata": {}
  },
  {
   "cell_type": "code",
   "execution_count": null,
   "source": [
    "k_features = []\n",
    "direction = []\n",
    "features = []\n",
    "score = []\n",
    "accuracy = []\n",
    "for k in range (5,20):\n",
    "    RF = RandomForestClassifier(n_estimators=25,n_jobs=-1,max_depth=13)\n",
    "    sfs1 = sfs(RF, k_features=k, forward=False, verbose=1, scoring='neg_mean_squared_error')\n",
    "    sfs1 = sfs1.fit(X, y)\n",
    "    feat_names = list(sfs1.k_feature_names_)\n",
    "    RF.fit(X_train,y_train)\n",
    "    accuracyCV = cross_val_score(clf, X[feat_names], y, scoring='accuracy', cv = 3) #Use cross validation on 3 folds to determine accuracy\n",
    "\n",
    "    k_features.append(k)\n",
    "    direction.append('backwards')\n",
    "    features.append(feat_names)\n",
    "    score.append(np.mean(accuracyCV))"
   ],
   "outputs": [],
   "metadata": {}
  },
  {
   "cell_type": "code",
   "execution_count": 38,
   "source": [
    "backwards = list(zip(k_features,direction,features,score))"
   ],
   "outputs": [],
   "metadata": {}
  },
  {
   "cell_type": "code",
   "execution_count": null,
   "source": [
    "from sklearn.model_selection import RepeatedStratifiedKFold\n",
    "k_features = []\n",
    "direction = []\n",
    "scores = []\n",
    "feats = []\n",
    "accuracy = []\n",
    "for i in range(5,19):\n",
    "    rfe = RFE(estimator=RandomForestClassifier(n_estimators=100,n_jobs=-1,max_depth=13), n_features_to_select=i)\n",
    "    rfe.fit(X,y)\n",
    "    model = RandomForestClassifier(n_estimators=100,n_jobs=-1,max_depth=13)\n",
    "    support = rfe.support_\n",
    "    feature_names = X_train.columns\n",
    "    rfe_feats = feature_names[support]\n",
    "    # fit the model on all available data\n",
    "    n_scores = cross_val_score(model, X[rfe_feats], y, scoring='accuracy', cv=3, n_jobs=-1, error_score='raise')\n",
    "    k_features.append(i)\n",
    "    direction.append('rfe')\n",
    "    scores.append(np.mean(n_scores))\n",
    "    feats.append(rfe_feats)\n",
    "\n",
    "rfe_res = list(zip(k_features,direction,feats,scores))"
   ],
   "outputs": [],
   "metadata": {}
  },
  {
   "cell_type": "code",
   "execution_count": null,
   "source": [
    "from sklearn.decomposition import PCA\n",
    "\n",
    "k_features = []\n",
    "direction = []\n",
    "scores = []\n",
    "feats = []\n",
    "\n",
    "for i in range(1,20):\n",
    "    pca = PCA(n_components=i)\n",
    "    X_pca = pca.fit_transform(X)\n",
    "    # Get the transformed dataset\n",
    "    X_pca = pd.DataFrame(X_pca)\n",
    "    clf = RandomForestClassifier(n_estimators=100,n_jobs=-1,max_depth=13)\n",
    "    n_scores = cross_val_score(clf, X_pca, y, scoring='accuracy', cv=3, n_jobs=-1, error_score='raise')\n",
    "    k_features.append(i)\n",
    "    method.append('pca')\n",
    "    scores.append(np.mean(n_scores))\n",
    "    feats.append('all')"
   ],
   "outputs": [],
   "metadata": {}
  },
  {
   "cell_type": "code",
   "execution_count": 48,
   "source": [
    "pca_data = list(zip(k_features,direction,feats,scores))"
   ],
   "outputs": [],
   "metadata": {}
  },
  {
   "cell_type": "code",
   "execution_count": 49,
   "source": [
    "bwd = pd.DataFrame(data=backwards[:],columns=['k_features','direction','features','score'])\n",
    "fwd = pd.DataFrame(data=forward[:],columns=['k_features','direction','features','score'])\n",
    "rfe_results = pd.DataFrame(data=rfe_res[:],columns=['k_features','direction','features','score'])\n",
    "pca_results = pd.DataFrame(data=pca_data[:],columns=['k_features','direction','features','score'])\n",
    "results = pd.concat([bwd,fwd,rfe_results,pca_results])\n"
   ],
   "outputs": [],
   "metadata": {}
  },
  {
   "cell_type": "code",
   "execution_count": 51,
   "source": [
    "results.sort_values('score',ascending=False)"
   ],
   "outputs": [
    {
     "output_type": "execute_result",
     "data": {
      "text/plain": [
       "    k_features  direction                                           features  \\\n",
       "3            8  backwards  [G_PTS, C_PTS, starter_MIN, EFG, FT_rate, DREB...   \n",
       "10          15        rfe  Index(['HHI', 'HHI_assists', 'G_PTS', 'starter...   \n",
       "11          16        rfe  Index(['HHI', 'HHI_assists', 'G_PTS', 'starter...   \n",
       "10          11        pca                                                all   \n",
       "8            9        pca                                                all   \n",
       "..         ...        ...                                                ...   \n",
       "14          19  backwards  [HHI, HHI_assists, G_PTS, F_PTS, C_PTS, starte...   \n",
       "7           12   forwards  [HHI, F_PTS, C_PTS, starter_PTS, EFG, FT_rate,...   \n",
       "2            7  backwards  [F_PTS, TO_rate, EFG, OREB_rate, DREB_rate, op...   \n",
       "3            8        rfe  Index(['TO_rate', 'EFG', 'FT_rate', 'OREB_rate...   \n",
       "0            1        pca                                                all   \n",
       "\n",
       "       score  \n",
       "3   0.672654  \n",
       "10  0.669511  \n",
       "11  0.669511  \n",
       "10  0.668612  \n",
       "8   0.667714  \n",
       "..       ...  \n",
       "14  0.643916  \n",
       "7   0.643467  \n",
       "2   0.642119  \n",
       "3   0.636731  \n",
       "0   0.628199  \n",
       "\n",
       "[63 rows x 4 columns]"
      ],
      "text/html": [
       "<div>\n",
       "<style scoped>\n",
       "    .dataframe tbody tr th:only-of-type {\n",
       "        vertical-align: middle;\n",
       "    }\n",
       "\n",
       "    .dataframe tbody tr th {\n",
       "        vertical-align: top;\n",
       "    }\n",
       "\n",
       "    .dataframe thead th {\n",
       "        text-align: right;\n",
       "    }\n",
       "</style>\n",
       "<table border=\"1\" class=\"dataframe\">\n",
       "  <thead>\n",
       "    <tr style=\"text-align: right;\">\n",
       "      <th></th>\n",
       "      <th>k_features</th>\n",
       "      <th>direction</th>\n",
       "      <th>features</th>\n",
       "      <th>score</th>\n",
       "    </tr>\n",
       "  </thead>\n",
       "  <tbody>\n",
       "    <tr>\n",
       "      <th>3</th>\n",
       "      <td>8</td>\n",
       "      <td>backwards</td>\n",
       "      <td>[G_PTS, C_PTS, starter_MIN, EFG, FT_rate, DREB...</td>\n",
       "      <td>0.672654</td>\n",
       "    </tr>\n",
       "    <tr>\n",
       "      <th>10</th>\n",
       "      <td>15</td>\n",
       "      <td>rfe</td>\n",
       "      <td>Index(['HHI', 'HHI_assists', 'G_PTS', 'starter...</td>\n",
       "      <td>0.669511</td>\n",
       "    </tr>\n",
       "    <tr>\n",
       "      <th>11</th>\n",
       "      <td>16</td>\n",
       "      <td>rfe</td>\n",
       "      <td>Index(['HHI', 'HHI_assists', 'G_PTS', 'starter...</td>\n",
       "      <td>0.669511</td>\n",
       "    </tr>\n",
       "    <tr>\n",
       "      <th>10</th>\n",
       "      <td>11</td>\n",
       "      <td>pca</td>\n",
       "      <td>all</td>\n",
       "      <td>0.668612</td>\n",
       "    </tr>\n",
       "    <tr>\n",
       "      <th>8</th>\n",
       "      <td>9</td>\n",
       "      <td>pca</td>\n",
       "      <td>all</td>\n",
       "      <td>0.667714</td>\n",
       "    </tr>\n",
       "    <tr>\n",
       "      <th>...</th>\n",
       "      <td>...</td>\n",
       "      <td>...</td>\n",
       "      <td>...</td>\n",
       "      <td>...</td>\n",
       "    </tr>\n",
       "    <tr>\n",
       "      <th>14</th>\n",
       "      <td>19</td>\n",
       "      <td>backwards</td>\n",
       "      <td>[HHI, HHI_assists, G_PTS, F_PTS, C_PTS, starte...</td>\n",
       "      <td>0.643916</td>\n",
       "    </tr>\n",
       "    <tr>\n",
       "      <th>7</th>\n",
       "      <td>12</td>\n",
       "      <td>forwards</td>\n",
       "      <td>[HHI, F_PTS, C_PTS, starter_PTS, EFG, FT_rate,...</td>\n",
       "      <td>0.643467</td>\n",
       "    </tr>\n",
       "    <tr>\n",
       "      <th>2</th>\n",
       "      <td>7</td>\n",
       "      <td>backwards</td>\n",
       "      <td>[F_PTS, TO_rate, EFG, OREB_rate, DREB_rate, op...</td>\n",
       "      <td>0.642119</td>\n",
       "    </tr>\n",
       "    <tr>\n",
       "      <th>3</th>\n",
       "      <td>8</td>\n",
       "      <td>rfe</td>\n",
       "      <td>Index(['TO_rate', 'EFG', 'FT_rate', 'OREB_rate...</td>\n",
       "      <td>0.636731</td>\n",
       "    </tr>\n",
       "    <tr>\n",
       "      <th>0</th>\n",
       "      <td>1</td>\n",
       "      <td>pca</td>\n",
       "      <td>all</td>\n",
       "      <td>0.628199</td>\n",
       "    </tr>\n",
       "  </tbody>\n",
       "</table>\n",
       "<p>63 rows × 4 columns</p>\n",
       "</div>"
      ]
     },
     "metadata": {},
     "execution_count": 51
    }
   ],
   "metadata": {}
  },
  {
   "cell_type": "code",
   "execution_count": 6,
   "source": [
    "from sklearn.model_selection import cross_val_score\n",
    "\n",
    "fts = []\n",
    "direction = []\n",
    "k_features = []\n",
    "accuracy = []\n",
    "clf = RandomForestClassifier(n_estimators=100,n_jobs=-1,max_depth=13)\n",
    "feats = ['opp_play_percent', 'play_percent', 'TO_rate', 'OREB_rate', 'FT_rate', 'opp_TO_rate', 'opp_OREB_rate', 'starter_MIN', 'C_PTS', 'F_PTS', 'opp_FT_rate']\n",
    "X = df_home[feats]\n",
    "y = df_home['win']\n",
    "n_scores = cross_val_score(clf, X, y, scoring='accuracy', cv=3, n_jobs=-1, error_score='raise')\n",
    "fts.append(feats)\n",
    "k_features.append(len(feats))\n",
    "direction.append('featurewiz')\n",
    "accuracy.append(np.mean(n_scores))\n",
    "fwiz = list(zip(k_features,direction,fts,accuracy))\n",
    "fw_res = pd.DataFrame(data=fwiz[:],columns=['k_features','direction','features','score'])"
   ],
   "outputs": [
    {
     "output_type": "stream",
     "name": "stdout",
     "text": [
      "0.6636731028289178\n"
     ]
    }
   ],
   "metadata": {}
  },
  {
   "cell_type": "code",
   "execution_count": 9,
   "source": [
    "results = pd.read_csv('Random_Forest_Results.csv')\n",
    "results = pd.concat([results,fw_res])\n",
    "results\n",
    "results.to_csv('Random_Forest_Results.csv',index=False)"
   ],
   "outputs": [],
   "metadata": {}
  },
  {
   "cell_type": "code",
   "execution_count": 52,
   "source": [
    "results.to_csv('Random_Forest_Results.csv',index=False)"
   ],
   "outputs": [],
   "metadata": {}
  }
 ],
 "metadata": {
  "orig_nbformat": 4,
  "language_info": {
   "name": "python",
   "version": "3.9.6",
   "mimetype": "text/x-python",
   "codemirror_mode": {
    "name": "ipython",
    "version": 3
   },
   "pygments_lexer": "ipython3",
   "nbconvert_exporter": "python",
   "file_extension": ".py"
  },
  "kernelspec": {
   "name": "python3",
   "display_name": "Python 3.9.6 64-bit"
  },
  "interpreter": {
   "hash": "aee8b7b246df8f9039afb4144a1f6fd8d2ca17a180786b69acc140d282b71a49"
  }
 },
 "nbformat": 4,
 "nbformat_minor": 2
}