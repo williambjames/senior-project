{
 "cells": [
  {
   "cell_type": "code",
   "execution_count": 1,
   "source": [
    "import pandas as pd\n",
    "import numpy as np\n",
    "import matplotlib.pyplot as plt\n",
    "import seaborn as sns\n",
    "import os\n",
    "import lightgbm as LGB\n",
    "from sklearn.linear_model import LinearRegression, LogisticRegression\n",
    "from sklearn.ensemble import RandomForestClassifier\n",
    "from sklearn.metrics import accuracy_score, mean_squared_error, log_loss\n",
    "from sklearn.model_selection import train_test_split, KFold\n",
    "from sklearn.metrics import roc_auc_score\n",
    "from sklearn.model_selection import learning_curve\n",
    "from sklearn.model_selection import validation_curve\n",
    "from sklearn.svm import SVC\n",
    "from sklearn.feature_selection import RFE\n",
    "from sklearn.model_selection import StratifiedKFold\n",
    "from sklearn.feature_selection import RFECV\n",
    "from sklearn.datasets import make_classification\n",
    "from sklearn.neighbors import KNeighborsClassifier\n",
    "import featurewiz"
   ],
   "outputs": [
    {
     "output_type": "stream",
     "name": "stdout",
     "text": [
      "Imported featurewiz: advanced feature engg and selection library. Version=0.0.42\n",
      "output = featurewiz(dataname, target, corr_limit=0.70,\n",
      "                    verbose=2, sep=',', header=0, test_data='',\n",
      "                    feature_engg='', category_encoders='')\n",
      "Create new features via 'feature_engg' flag : ['interactions','groupby','target']\n",
      "                                \n"
     ]
    }
   ],
   "metadata": {}
  },
  {
   "cell_type": "code",
   "execution_count": 18,
   "source": [
    "df_clean = pd.read_csv('/Users/williamjames/Desktop/CSCI/487/final_data.csv')\n",
    "df_clean = df_clean.drop(columns=['Unnamed: 0'])\n",
    "df_home = df_clean.loc[(df_clean['location']==2)]\n",
    "X = df_home.drop(columns=['win','location'])\n",
    "y = df_home['win']\n",
    "\n",
    "\n"
   ],
   "outputs": [
    {
     "output_type": "stream",
     "name": "stdout",
     "text": [
      "Accuracy of logistic regression classifier on test set: 0.66\n"
     ]
    }
   ],
   "metadata": {}
  },
  {
   "cell_type": "code",
   "execution_count": 16,
   "source": [
    "from mlxtend.feature_selection import SequentialFeatureSelector as sfs"
   ],
   "outputs": [],
   "metadata": {}
  },
  {
   "cell_type": "code",
   "execution_count": null,
   "source": [
    "k_features = []\n",
    "direction = []\n",
    "features = []\n",
    "score = []\n",
    "accuracy = []\n",
    "for k in range (5,20):\n",
    "    lgb = LGB.LGBMClassifier()\n",
    "    sfs1 = sfs(lgb, k_features=k, forward=True, verbose=0, scoring='neg_mean_squared_error')\n",
    "    sfs1 = sfs1.fit(X, y)\n",
    "    feat_names = list(sfs1.k_feature_names_)\n",
    "    lgb =LGB.LGBMClassifier()\n",
    "    X_train, X_test, y_train, y_test = train_test_split(X[feat_names],y, test_size=.2)\n",
    "    lgb.fit(X_train,y_train)\n",
    "    y_pred = lgb.predict(X_test)\n",
    "    n_scores = cross_val_score(lgb, X[feat_names], y, scoring='accuracy', cv=cv, n_jobs=-1, error_score='raise')\n",
    "    k_features.append(k)\n",
    "    direction.append('forwards')\n",
    "    features.append(feat_names)\n",
    "    score.append(np.mean(n_scores))\n",
    "forward = list(zip(k_features,direction,features,score))"
   ],
   "outputs": [],
   "metadata": {}
  },
  {
   "cell_type": "code",
   "execution_count": null,
   "source": [
    "k_features = []\n",
    "direction = []\n",
    "features = []\n",
    "score = []\n",
    "accuracy = []\n",
    "for k in range (5,20):\n",
    "    lgb = LGB.LGBMClassifier()\n",
    "    sfs1 = sfs(lgb, k_features=k, forward=False, verbose=0, scoring='neg_mean_squared_error')\n",
    "    sfs1 = sfs1.fit(X, y)\n",
    "    feat_names = list(sfs1.k_feature_names_)\n",
    "    lgb =LGB.LGBMClassifier()\n",
    "    X_train, X_test, y_train, y_test = train_test_split(X[feat_names],y, test_size=.2)\n",
    "    lgb.fit(X_train,y_train)\n",
    "    y_pred = lgb.predict(X_test)\n",
    "    n_scores = cross_val_score(lgb, X[feat_names], y, scoring='accuracy', cv=3, n_jobs=-1, error_score='raise')\n",
    "    k_features.append(k)\n",
    "    direction.append('backwards')\n",
    "    features.append(feat_names)\n",
    "    score.append(np.mean(n_scores))\n",
    "backwards = list(zip(k_features,direction,features,score))"
   ],
   "outputs": [],
   "metadata": {}
  },
  {
   "cell_type": "code",
   "execution_count": null,
   "source": [
    "from sklearn.model_selection import RepeatedStratifiedKFold\n",
    "from sklearn.model_selection import cross_val_score\n",
    "k_features = []\n",
    "direction = []\n",
    "scores = []\n",
    "feats = []\n",
    "accuracy = []\n",
    "for i in range(5,19):\n",
    "    rfe = RFE(estimator=LGB.LGBMClassifier(), n_features_to_select=i)\n",
    "    rfe.fit(X,y)\n",
    "    lgb = LGB.LGBMClassifier()\n",
    "    support = rfe.support_\n",
    "    feature_names = X_train.columns\n",
    "    rfe_feats = feature_names[support]\n",
    "    # fit the model on all available data\n",
    "    cv = RepeatedStratifiedKFold(n_splits=10, n_repeats=3, random_state=1)\n",
    "    lgb.fit(X_train,y_train)\n",
    "    n_scores = cross_val_score(lgb, X[rfe_feats], y, scoring='accuracy', cv=3, n_jobs=-1, error_score='raise')\n",
    "    k_features.append(k)\n",
    "    direction.append('rfe')\n",
    "    features.append(feat_names)\n",
    "    score.append(np.mean(n_scores))\n",
    "forward = list(zip(k_features,direction,features,score))"
   ],
   "outputs": [],
   "metadata": {}
  },
  {
   "cell_type": "code",
   "execution_count": null,
   "source": [
    "from sklearn.decomposition import PCA\n",
    "\n",
    "k_features = []\n",
    "direction = []\n",
    "scores = []\n",
    "feats = []\n",
    "\n",
    "for i in range(1,20):\n",
    "    pca = PCA(n_components=i)\n",
    "    X_pca = pca.fit_transform(X)\n",
    "\n",
    "    # Get the transformed dataset\n",
    "    X_pca = pd.DataFrame(X_pca)\n",
    "    X_train_pca, X_test_pca, y_train, y_test = train_test_split(X_pca, y, test_size=0.20, \n",
    "                                                            shuffle=True, random_state=2)\n",
    "\n",
    "\n",
    "    clf = LGB.LGBMClassifier()\n",
    "\n",
    "    # Train the model\n",
    "    clf.fit(X_train_pca, y_train)\n",
    "\n",
    "    # Make predictions\n",
    "    y_pred = clf.predict(X_test_pca) # Predictions\n",
    "    y_true = y_test # True values\n",
    "\n",
    "    # Measure accuracy\n",
    "    from sklearn.metrics import accuracy_score\n",
    "    import numpy as np\n",
    "    n_scores = cross_val_score(clf, X_pca, y, scoring='accuracy', cv=3, n_jobs=-1, error_score='raise')\n",
    "    k_features.append(k)\n",
    "    direction.append('pca')\n",
    "    features.append('all')\n",
    "    score.append(np.mean(n_scores))\n",
    "pca_data = list(zip(k_features,direction,feats,scores))"
   ],
   "outputs": [],
   "metadata": {}
  },
  {
   "cell_type": "code",
   "execution_count": 23,
   "source": [
    "bwd = pd.DataFrame(data=backwards[:],columns=['k_features','direction','features','score'])\n",
    "fwd = pd.DataFrame(data=forward[:],columns=['k_features','direction','features','score'])\n",
    "rfe_results = pd.DataFrame(data=rfe_res[:],columns=['k_features','direction','features','score'])\n",
    "pca_results = pd.DataFrame(data=pca_data[:],columns=['k_features','direction','features','score'])\n",
    "results = pd.concat([bwd,fwd,rfe_results,pca_results])"
   ],
   "outputs": [],
   "metadata": {}
  },
  {
   "cell_type": "code",
   "execution_count": 29,
   "source": [
    "results.sort_values('score',ascending=False)"
   ],
   "outputs": [
    {
     "output_type": "execute_result",
     "data": {
      "text/plain": [
       "    k_features  direction                                           features  \\\n",
       "14          19   forwards  [HHI, HHI_assists, G_PTS, F_PTS, C_PTS, starte...   \n",
       "9           10        pca                                                all   \n",
       "8            9        pca                                                all   \n",
       "16          17        pca                                                all   \n",
       "14          15        pca                                                all   \n",
       "..         ...        ...                                                ...   \n",
       "11          16  backwards  [HHI_assists, F_PTS, C_PTS, starter_PTS, start...   \n",
       "0            5        rfe  Index(['G_PTS', 'TO_rate', 'EFG', 'FT_rate', '...   \n",
       "0            1        pca                                                all   \n",
       "14          19  backwards  [HHI, HHI_assists, G_PTS, F_PTS, C_PTS, starte...   \n",
       "13          18        rfe  Index(['HHI', 'HHI_assists', 'G_PTS', 'F_PTS',...   \n",
       "\n",
       "       score  \n",
       "14  0.674450  \n",
       "9   0.672654  \n",
       "8   0.667265  \n",
       "16  0.666367  \n",
       "14  0.665469  \n",
       "..       ...  \n",
       "11  0.636731  \n",
       "0   0.634486  \n",
       "0   0.633139  \n",
       "14  0.631792  \n",
       "13  0.629996  \n",
       "\n",
       "[64 rows x 4 columns]"
      ],
      "text/html": [
       "<div>\n",
       "<style scoped>\n",
       "    .dataframe tbody tr th:only-of-type {\n",
       "        vertical-align: middle;\n",
       "    }\n",
       "\n",
       "    .dataframe tbody tr th {\n",
       "        vertical-align: top;\n",
       "    }\n",
       "\n",
       "    .dataframe thead th {\n",
       "        text-align: right;\n",
       "    }\n",
       "</style>\n",
       "<table border=\"1\" class=\"dataframe\">\n",
       "  <thead>\n",
       "    <tr style=\"text-align: right;\">\n",
       "      <th></th>\n",
       "      <th>k_features</th>\n",
       "      <th>direction</th>\n",
       "      <th>features</th>\n",
       "      <th>score</th>\n",
       "    </tr>\n",
       "  </thead>\n",
       "  <tbody>\n",
       "    <tr>\n",
       "      <th>14</th>\n",
       "      <td>19</td>\n",
       "      <td>forwards</td>\n",
       "      <td>[HHI, HHI_assists, G_PTS, F_PTS, C_PTS, starte...</td>\n",
       "      <td>0.674450</td>\n",
       "    </tr>\n",
       "    <tr>\n",
       "      <th>9</th>\n",
       "      <td>10</td>\n",
       "      <td>pca</td>\n",
       "      <td>all</td>\n",
       "      <td>0.672654</td>\n",
       "    </tr>\n",
       "    <tr>\n",
       "      <th>8</th>\n",
       "      <td>9</td>\n",
       "      <td>pca</td>\n",
       "      <td>all</td>\n",
       "      <td>0.667265</td>\n",
       "    </tr>\n",
       "    <tr>\n",
       "      <th>16</th>\n",
       "      <td>17</td>\n",
       "      <td>pca</td>\n",
       "      <td>all</td>\n",
       "      <td>0.666367</td>\n",
       "    </tr>\n",
       "    <tr>\n",
       "      <th>14</th>\n",
       "      <td>15</td>\n",
       "      <td>pca</td>\n",
       "      <td>all</td>\n",
       "      <td>0.665469</td>\n",
       "    </tr>\n",
       "    <tr>\n",
       "      <th>...</th>\n",
       "      <td>...</td>\n",
       "      <td>...</td>\n",
       "      <td>...</td>\n",
       "      <td>...</td>\n",
       "    </tr>\n",
       "    <tr>\n",
       "      <th>11</th>\n",
       "      <td>16</td>\n",
       "      <td>backwards</td>\n",
       "      <td>[HHI_assists, F_PTS, C_PTS, starter_PTS, start...</td>\n",
       "      <td>0.636731</td>\n",
       "    </tr>\n",
       "    <tr>\n",
       "      <th>0</th>\n",
       "      <td>5</td>\n",
       "      <td>rfe</td>\n",
       "      <td>Index(['G_PTS', 'TO_rate', 'EFG', 'FT_rate', '...</td>\n",
       "      <td>0.634486</td>\n",
       "    </tr>\n",
       "    <tr>\n",
       "      <th>0</th>\n",
       "      <td>1</td>\n",
       "      <td>pca</td>\n",
       "      <td>all</td>\n",
       "      <td>0.633139</td>\n",
       "    </tr>\n",
       "    <tr>\n",
       "      <th>14</th>\n",
       "      <td>19</td>\n",
       "      <td>backwards</td>\n",
       "      <td>[HHI, HHI_assists, G_PTS, F_PTS, C_PTS, starte...</td>\n",
       "      <td>0.631792</td>\n",
       "    </tr>\n",
       "    <tr>\n",
       "      <th>13</th>\n",
       "      <td>18</td>\n",
       "      <td>rfe</td>\n",
       "      <td>Index(['HHI', 'HHI_assists', 'G_PTS', 'F_PTS',...</td>\n",
       "      <td>0.629996</td>\n",
       "    </tr>\n",
       "  </tbody>\n",
       "</table>\n",
       "<p>64 rows × 4 columns</p>\n",
       "</div>"
      ]
     },
     "metadata": {},
     "execution_count": 29
    }
   ],
   "metadata": {}
  },
  {
   "cell_type": "code",
   "execution_count": 27,
   "source": [
    "from sklearn.model_selection import cross_val_score\n",
    "fts = []\n",
    "direction = []\n",
    "k_features = []\n",
    "accuracy = []\n",
    "lgb = LGB.LGBMClassifier()\n",
    "feats = ['opp_play_percent', 'play_percent', 'TO_rate', 'OREB_rate', 'FT_rate', 'opp_TO_rate', 'opp_OREB_rate', 'starter_MIN', 'C_PTS', 'F_PTS', 'opp_FT_rate']\n",
    "X = df_home[feats]\n",
    "y = df_home['win']\n",
    "X_train, X_test, y_train, y_test = train_test_split(X,y, test_size=.2)\n",
    "lgb.fit(X_train,y_train)\n",
    "n_scores = cross_val_score(clf, X, y, scoring='accuracy', cv=3, n_jobs=-1, error_score='raise')\n",
    "fts.append(feats)\n",
    "k_features.append(len(feats))\n",
    "direction.append('featurewiz')\n",
    "accuracy.append(lgb.score(X_test,y_test))\n",
    "fwiz = list(zip(k_features,direction,fts,accuracy))\n",
    "fw_res = pd.DataFrame(data=fwiz[:],columns=['k_features','direction','features','score'])\n"
   ],
   "outputs": [
    {
     "output_type": "stream",
     "name": "stdout",
     "text": [
      "0.65828468792097\n"
     ]
    }
   ],
   "metadata": {}
  },
  {
   "cell_type": "code",
   "execution_count": 28,
   "source": [
    "results = pd.concat([results,fw_res])"
   ],
   "outputs": [],
   "metadata": {}
  },
  {
   "cell_type": "code",
   "execution_count": 30,
   "source": [
    "results.to_csv('LGBModel_Results.csv',index=False)"
   ],
   "outputs": [],
   "metadata": {}
  }
 ],
 "metadata": {
  "orig_nbformat": 4,
  "language_info": {
   "name": "python",
   "version": "3.9.6",
   "mimetype": "text/x-python",
   "codemirror_mode": {
    "name": "ipython",
    "version": 3
   },
   "pygments_lexer": "ipython3",
   "nbconvert_exporter": "python",
   "file_extension": ".py"
  },
  "kernelspec": {
   "name": "python3",
   "display_name": "Python 3.9.6 64-bit"
  },
  "interpreter": {
   "hash": "aee8b7b246df8f9039afb4144a1f6fd8d2ca17a180786b69acc140d282b71a49"
  }
 },
 "nbformat": 4,
 "nbformat_minor": 2
}