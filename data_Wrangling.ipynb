{
    "cells": [
        {
            "cell_type": "code",
            "execution_count": null,
            "source": [
                "import pandas as pd\n",
                "import numpy as np"
            ],
            "outputs": [],
            "metadata": {}
        },
        {
            "cell_type": "code",
            "execution_count": null,
            "source": [
                "path = '/Users/williamjames/Desktop/CSCI/487/ncaahoopR_data-master/'\n",
                "seasons = os.listdir(path)\n",
                "season_list = [filename for filename in seasons]\n",
                "print(season_list)"
            ],
            "outputs": [],
            "metadata": {}
        },
        {
            "cell_type": "code",
            "execution_count": null,
            "source": [
                "def getBoxScores():\n",
                "    df = pd.DataFrame()\n",
                "    path = '/Users/williamjames/Desktop/CSCI/487/ncaahoopR_data-master/'\n",
                "    seasons = os.listdir(path)\n",
                "    season_list = [filename for filename in seasons]\n",
                "    for s in ['2018-19','2019-20','2020-21']:\n",
                "        season_path = path + s + '/box_scores/'\n",
                "        teams = os.listdir(season_path)\n",
                "        team_list = [filename for filename in teams]\n",
                "        print(s)\n",
                "        for t in team_list:\n",
                "            team_path = season_path + t + '/'\n",
                "            games = os.listdir(team_path)\n",
                "            game_list = [filename for filename in games]\n",
                "            for i in game_list:\n",
                "                game_path = team_path + i\n",
                "                data = pd.read_csv(game_path)\n",
                "                data['id'] = i[:-4] #create column with gameID for merging and grouping purposes\n",
                "                data['team'] = t\n",
                "                df = df.append(data)\n",
                "    return df"
            ],
            "outputs": [],
            "metadata": {}
        },
        {
            "cell_type": "code",
            "execution_count": null,
            "source": [
                "df = getBoxScores()\n",
                "players = df.loc[~(df['player']=='TEAM')]\n",
                "team = df.loc[(df['player']=='TEAM')]"
            ],
            "outputs": [],
            "metadata": {}
        },
        {
            "cell_type": "code",
            "execution_count": null,
            "source": [
                "team = team.rename(columns={'PTS':'team_PTS','AST':'team_AST'})\n",
                "players = pd.merge(players,team[['id','team','team_PTS','team_AST']],on=['id','team'])\n",
                "players.loc[(players['position']=='H'),'position'] = 'G'\n",
                "players['HHI'] = (players['PTS'] / players['team_PTS']) ** 2\n",
                "players['HHI_assists'] = (players['AST'] / players['team_AST']) ** 2\n",
                "players['G_PTS'] = 0\n",
                "players.loc[(players['position']=='G'),'G_PTS'] = players['PTS']\n",
                "players['F_PTS'] = 0\n",
                "players.loc[(players['position']=='F'),'F_PTS'] = players['PTS']\n",
                "players['C_PTS'] = 0\n",
                "players.loc[(players['position']=='C'),'C_PTS'] = players['PTS']\n",
                "players['starter_PTS'] = 0\n",
                "players.loc[(players['starter']==True),'starter_PTS'] = players['PTS']\n",
                "players['starter_MIN'] = 0\n",
                "players.loc[(players['starter']==True),'starter_MIN'] = players['MIN']"
            ],
            "outputs": [],
            "metadata": {}
        },
        {
            "cell_type": "code",
            "execution_count": null,
            "source": [
                "box = players.loc[~(players['player']=='TEAM')].groupby(['id','team'],as_index=False).agg({\n",
                "    'MIN':'sum','FGM':'sum','FGA':'sum','3PTM':'sum','3PTA':'sum','FTM':'sum','FTA':'sum','OREB':'sum',\n",
                "    'DREB':'sum','REB':'sum','AST':'sum','STL':'sum','BLK':'sum','TO':'sum','PF':'sum','PTS':'sum','HHI':'sum','HHI_assists':'sum','G_PTS':'sum','F_PTS':'sum','C_PTS':'sum','starter_PTS':'sum','starter_MIN':'sum','location':'max'\n",
                "})\n",
                "\n",
                "box['G_PTS'] = box['G_PTS']/box['PTS']\n",
                "box['F_PTS'] = box['F_PTS']/box['PTS']\n",
                "box['C_PTS'] = box['C_PTS']/box['PTS']\n",
                "box['starter_PTS'] = box['starter_PTS']/box['PTS']\n",
                "box['starter_MIN'] = box['starter_MIN']/box['MIN']\n",
                "\n",
                "box['TO_rate'] = box['TO'] / (box['FGA'] + .44*box['FTA'] + box['TO'])\n",
                "box['EFG'] = (box['FGM'] + .5*box['3PTM'])/box['FGA']\n",
                "box['FT_rate'] = box['FTM']/box['FGA']\n",
                "box['play_percent'] = box['FGM'] / (box['FGA']-box['OREB'] + box['TO'])\n",
                "\n",
                "teams1 = box[['team','id','OREB','DREB','TO_rate','EFG','FT_rate','play_percent','PTS']][0::2]\n",
                "teams2 = box[['team','id','OREB','DREB','TO_rate','EFG','FT_rate','play_percent','PTS']][1::2]\n",
                "\n",
                "games1 = pd.merge(teams1,teams2,on=['id'])\n",
                "\n",
                "teams11 = box[['team','id','OREB','DREB','TO_rate','EFG','FT_rate','play_percent','PTS']][1::2]\n",
                "teams22 = box[['team','id','OREB','DREB','TO_rate','EFG','FT_rate','play_percent','PTS']][0::2]\n",
                "\n",
                "games2 = pd.merge(teams11,teams22,on=['id'])\n",
                "\n",
                "games = pd.concat([games1,games2])\n",
                "\n",
                "games\n",
                "games['OREB_rate'] = games['OREB_x'] / (games['OREB_x'] + games['DREB_y'])\n",
                "games['DREB_rate'] = games['DREB_x'] / (games['DREB_x'] + games['OREB_y'])\n",
                "games = games.rename(columns={'TO_rate_y':'opp_TO_rate','EFG_y':'opp_EFG','FT_rate_y':'opp_FT_rate','play_percent_y':'opp_play_percent'})\n",
                "games['opp_DREB_rate'] = games['DREB_y'] / (games['DREB_y'] + games['OREB_x'])\n",
                "games['opp_OREB_rate'] = games['OREB_y'] / (games['OREB_y'] + games['DREB_x'])\n",
                "games['win'] = 0\n",
                "games.loc[(games['PTS_x']>games['PTS_y']),'win'] = 1\n",
                "games = games.rename(columns={'team_x':'team'})\n",
                "box = pd.merge(box,games[['team','id','OREB_rate','DREB_rate','opp_TO_rate','opp_EFG','opp_FT_rate','opp_DREB_rate','opp_OREB_rate','opp_play_percent','win']],on=['team','id'])\n",
                "box.loc[(box['location']=='H'),'location'] = 2\n",
                "box.loc[(box['location']=='A'),'location'] = 0\n",
                "box.loc[(box['location']=='N'),'location'] = 1"
            ],
            "outputs": [],
            "metadata": {}
        },
        {
            "cell_type": "code",
            "execution_count": null,
            "source": [
                "stats = ['HHI','HHI_assists', 'G_PTS', 'F_PTS', 'C_PTS', 'starter_PTS','starter_MIN','TO_rate',\n",
                " 'EFG', 'FT_rate','play_percent', 'OREB_rate', 'DREB_rate', 'opp_TO_rate','opp_EFG', 'opp_FT_rate', \n",
                "'opp_DREB_rate', 'opp_OREB_rate','opp_play_percent']\n",
                "def add_rolling(data,stats):\n",
                "\n",
                "    main = pd.DataFrame()\n",
                "    for t in data.team.unique():\n",
                "        df = data.loc[(data['team']==t)]\n",
                "        for s in stats:  \n",
                "            df[s] = df[s].rolling(5).mean().shift(1)\n",
                "        \n",
                "        main = main.append(df)\n",
                "    return main\n",
                "\n",
                "df = add_rolling(box,stats)"
            ],
            "outputs": [],
            "metadata": {}
        },
        {
            "cell_type": "code",
            "execution_count": null,
            "source": [
                "for col in ['HHI','HHI_assists', 'G_PTS', 'F_PTS', 'C_PTS', 'starter_PTS', 'starter_MIN',\n",
                "       'TO_rate', 'EFG', 'FT_rate', 'OREB_rate', 'DREB_rate', 'opp_TO_rate',\n",
                "       'opp_EFG', 'opp_FT_rate', 'opp_DREB_rate','play_percent','opp_play_percent', 'opp_OREB_rate']:\n",
                "       df[col] = (df[col] - df[col].mean())/df[col].std(ddof=0)"
            ],
            "outputs": [],
            "metadata": {}
        },
        {
            "cell_type": "code",
            "execution_count": null,
            "source": [
                "df = df[['HHI','HHI_assists', 'G_PTS', 'F_PTS', 'C_PTS','location', 'starter_PTS','starter_MIN',\n",
                "       'TO_rate', 'EFG', 'FT_rate', 'OREB_rate', 'DREB_rate', 'opp_TO_rate',\n",
                "       'opp_EFG', 'opp_FT_rate', 'opp_DREB_rate','play_percent','opp_play_percent', 'opp_OREB_rate', 'win']]"
            ],
            "outputs": [],
            "metadata": {}
        },
        {
            "cell_type": "code",
            "execution_count": null,
            "source": [
                "df_clean = df.dropna()\n",
                "df_clean.to_csv('final_data.csv')"
            ],
            "outputs": [],
            "metadata": {}
        }
    ],
    "metadata": {
        "orig_nbformat": 4,
        "language_info": {
            "name": "python"
        }
    },
    "nbformat": 4,
    "nbformat_minor": 2
}